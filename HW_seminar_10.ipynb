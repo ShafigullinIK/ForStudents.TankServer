{
  "nbformat": 4,
  "nbformat_minor": 0,
  "metadata": {
    "colab": {
      "provenance": [],
      "authorship_tag": "ABX9TyMDmXKdr+u9UCpRt7LwHvu6",
      "include_colab_link": true
    },
    "kernelspec": {
      "name": "python3",
      "display_name": "Python 3"
    },
    "language_info": {
      "name": "python"
    }
  },
  "cells": [
    {
      "cell_type": "markdown",
      "metadata": {
        "id": "view-in-github",
        "colab_type": "text"
      },
      "source": [
        "<a href=\"https://colab.research.google.com/github/nastialazareva/ForStudents.TankServer/blob/master/HW_seminar_10.ipynb\" target=\"_parent\"><img src=\"https://colab.research.google.com/assets/colab-badge.svg\" alt=\"Open In Colab\"/></a>"
      ]
    },
    {
      "cell_type": "markdown",
      "source": [
        "# Задача 44:\n",
        "В ячейке ниже представлен код генерирующий DataFrame, которая состоит всего\n",
        "из 1 столбца. Ваша задача перевести его в one hot вид. Сможете ли вы это сделать без get_dummies?"
      ],
      "metadata": {
        "id": "UdCewiSrvjcf"
      }
    },
    {
      "cell_type": "code",
      "source": [
        "# import random\n",
        "# lst = ['robot'] * 10\n",
        "# lst += ['human'] * 10\n",
        "# random.shuffle(lst)\n",
        "# data = pd.DataFrame({'whoAmI':lst})\n",
        "# data.head()"
      ],
      "metadata": {
        "id": "fmNweZfXvvjf"
      },
      "execution_count": null,
      "outputs": []
    },
    {
      "cell_type": "code",
      "source": [
        "import pandas as pd\n",
        "import numpy as np\n",
        "import random"
      ],
      "metadata": {
        "id": "tQ_8IF74wr5p"
      },
      "execution_count": 2,
      "outputs": []
    },
    {
      "cell_type": "code",
      "source": [
        "lst = ['robot'] * 10\n",
        "lst += ['human'] * 10\n",
        "random.shuffle(lst)\n",
        "data = pd.DataFrame({'whoAmI': lst})\n",
        "print(data)"
      ],
      "metadata": {
        "colab": {
          "base_uri": "https://localhost:8080/"
        },
        "id": "9QNAtGhTy0nC",
        "outputId": "ea8983c6-7de3-45ac-a1ee-13b39ccb7330"
      },
      "execution_count": 13,
      "outputs": [
        {
          "output_type": "stream",
          "name": "stdout",
          "text": [
            "   whoAmI\n",
            "0   human\n",
            "1   robot\n",
            "2   human\n",
            "3   robot\n",
            "4   robot\n",
            "5   human\n",
            "6   human\n",
            "7   robot\n",
            "8   robot\n",
            "9   robot\n",
            "10  human\n",
            "11  robot\n",
            "12  human\n",
            "13  human\n",
            "14  robot\n",
            "15  robot\n",
            "16  human\n",
            "17  human\n",
            "18  robot\n",
            "19  human\n"
          ]
        }
      ]
    },
    {
      "cell_type": "code",
      "source": [
        "data['tmp'] = 1\n",
        "data.set_index([data.index, 'whoAmI'], inplace=True)\n",
        "data = data.unstack(level=-1, fill_value = 0).astype(int)\n",
        "data.columns = data.columns.droplevel()\n",
        "data.columns.name = None\n",
        "print(data)"
      ],
      "metadata": {
        "colab": {
          "base_uri": "https://localhost:8080/"
        },
        "id": "Jt4Zc9-by1uR",
        "outputId": "97b8941f-79ff-499f-d2a1-5922b881f4f0"
      },
      "execution_count": 14,
      "outputs": [
        {
          "output_type": "stream",
          "name": "stdout",
          "text": [
            "    human  robot\n",
            "0       1      0\n",
            "1       0      1\n",
            "2       1      0\n",
            "3       0      1\n",
            "4       0      1\n",
            "5       1      0\n",
            "6       1      0\n",
            "7       0      1\n",
            "8       0      1\n",
            "9       0      1\n",
            "10      1      0\n",
            "11      0      1\n",
            "12      1      0\n",
            "13      1      0\n",
            "14      0      1\n",
            "15      0      1\n",
            "16      1      0\n",
            "17      1      0\n",
            "18      0      1\n",
            "19      1      0\n"
          ]
        }
      ]
    }
  ]
}